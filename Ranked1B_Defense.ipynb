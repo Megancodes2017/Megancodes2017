{
  "nbformat": 4,
  "nbformat_minor": 0,
  "metadata": {
    "colab": {
      "provenance": [],
      "authorship_tag": "ABX9TyMKf7meXpqQpCiMyrwUuXsX",
      "include_colab_link": true
    },
    "kernelspec": {
      "name": "python3",
      "display_name": "Python 3"
    },
    "language_info": {
      "name": "python"
    }
  },
  "cells": [
    {
      "cell_type": "markdown",
      "metadata": {
        "id": "view-in-github",
        "colab_type": "text"
      },
      "source": [
        "<a href=\"https://colab.research.google.com/github/Megancodes2017/Megancodes2017/blob/main/Ranked1B_Defense.ipynb\" target=\"_parent\"><img src=\"https://colab.research.google.com/assets/colab-badge.svg\" alt=\"Open In Colab\"/></a>"
      ]
    },
    {
      "cell_type": "code",
      "execution_count": null,
      "metadata": {
        "colab": {
          "base_uri": "https://localhost:8080/"
        },
        "id": "OIjxy-Vk35kX",
        "outputId": "689c07c0-a273-4b74-eb44-bb746f1022bd"
      },
      "outputs": [
        {
          "output_type": "stream",
          "name": "stdout",
          "text": [
            "Collecting pybaseball\n",
            "  Downloading pybaseball-2.2.7-py3-none-any.whl.metadata (11 kB)\n",
            "Requirement already satisfied: numpy>=1.13.0 in /usr/local/lib/python3.12/dist-packages (from pybaseball) (2.0.2)\n",
            "Requirement already satisfied: pandas>=1.0.3 in /usr/local/lib/python3.12/dist-packages (from pybaseball) (2.2.2)\n",
            "Requirement already satisfied: beautifulsoup4>=4.4.0 in /usr/local/lib/python3.12/dist-packages (from pybaseball) (4.13.4)\n",
            "Requirement already satisfied: requests>=2.18.1 in /usr/local/lib/python3.12/dist-packages (from pybaseball) (2.32.4)\n",
            "Requirement already satisfied: lxml>=4.2.1 in /usr/local/lib/python3.12/dist-packages (from pybaseball) (5.4.0)\n",
            "Requirement already satisfied: pyarrow>=1.0.1 in /usr/local/lib/python3.12/dist-packages (from pybaseball) (18.1.0)\n",
            "Collecting pygithub>=1.51 (from pybaseball)\n",
            "  Downloading pygithub-2.7.0-py3-none-any.whl.metadata (3.9 kB)\n",
            "Requirement already satisfied: scipy>=1.4.0 in /usr/local/lib/python3.12/dist-packages (from pybaseball) (1.16.1)\n",
            "Requirement already satisfied: matplotlib>=2.0.0 in /usr/local/lib/python3.12/dist-packages (from pybaseball) (3.10.0)\n",
            "Requirement already satisfied: tqdm>=4.50.0 in /usr/local/lib/python3.12/dist-packages (from pybaseball) (4.67.1)\n",
            "Requirement already satisfied: attrs>=20.3.0 in /usr/local/lib/python3.12/dist-packages (from pybaseball) (25.3.0)\n",
            "Requirement already satisfied: soupsieve>1.2 in /usr/local/lib/python3.12/dist-packages (from beautifulsoup4>=4.4.0->pybaseball) (2.7)\n",
            "Requirement already satisfied: typing-extensions>=4.0.0 in /usr/local/lib/python3.12/dist-packages (from beautifulsoup4>=4.4.0->pybaseball) (4.14.1)\n",
            "Requirement already satisfied: contourpy>=1.0.1 in /usr/local/lib/python3.12/dist-packages (from matplotlib>=2.0.0->pybaseball) (1.3.3)\n",
            "Requirement already satisfied: cycler>=0.10 in /usr/local/lib/python3.12/dist-packages (from matplotlib>=2.0.0->pybaseball) (0.12.1)\n",
            "Requirement already satisfied: fonttools>=4.22.0 in /usr/local/lib/python3.12/dist-packages (from matplotlib>=2.0.0->pybaseball) (4.59.1)\n",
            "Requirement already satisfied: kiwisolver>=1.3.1 in /usr/local/lib/python3.12/dist-packages (from matplotlib>=2.0.0->pybaseball) (1.4.9)\n",
            "Requirement already satisfied: packaging>=20.0 in /usr/local/lib/python3.12/dist-packages (from matplotlib>=2.0.0->pybaseball) (25.0)\n",
            "Requirement already satisfied: pillow>=8 in /usr/local/lib/python3.12/dist-packages (from matplotlib>=2.0.0->pybaseball) (11.3.0)\n",
            "Requirement already satisfied: pyparsing>=2.3.1 in /usr/local/lib/python3.12/dist-packages (from matplotlib>=2.0.0->pybaseball) (3.2.3)\n",
            "Requirement already satisfied: python-dateutil>=2.7 in /usr/local/lib/python3.12/dist-packages (from matplotlib>=2.0.0->pybaseball) (2.9.0.post0)\n",
            "Requirement already satisfied: pytz>=2020.1 in /usr/local/lib/python3.12/dist-packages (from pandas>=1.0.3->pybaseball) (2025.2)\n",
            "Requirement already satisfied: tzdata>=2022.7 in /usr/local/lib/python3.12/dist-packages (from pandas>=1.0.3->pybaseball) (2025.2)\n",
            "Collecting pynacl>=1.4.0 (from pygithub>=1.51->pybaseball)\n",
            "  Downloading PyNaCl-1.5.0-cp36-abi3-manylinux_2_17_x86_64.manylinux2014_x86_64.manylinux_2_24_x86_64.whl.metadata (8.6 kB)\n",
            "Requirement already satisfied: pyjwt>=2.4.0 in /usr/local/lib/python3.12/dist-packages (from pyjwt[crypto]>=2.4.0->pygithub>=1.51->pybaseball) (2.10.1)\n",
            "Requirement already satisfied: urllib3>=1.26.0 in /usr/local/lib/python3.12/dist-packages (from pygithub>=1.51->pybaseball) (2.5.0)\n",
            "Requirement already satisfied: charset_normalizer<4,>=2 in /usr/local/lib/python3.12/dist-packages (from requests>=2.18.1->pybaseball) (3.4.3)\n",
            "Requirement already satisfied: idna<4,>=2.5 in /usr/local/lib/python3.12/dist-packages (from requests>=2.18.1->pybaseball) (3.10)\n",
            "Requirement already satisfied: certifi>=2017.4.17 in /usr/local/lib/python3.12/dist-packages (from requests>=2.18.1->pybaseball) (2025.8.3)\n",
            "Requirement already satisfied: cryptography>=3.4.0 in /usr/local/lib/python3.12/dist-packages (from pyjwt[crypto]>=2.4.0->pygithub>=1.51->pybaseball) (43.0.3)\n",
            "Requirement already satisfied: cffi>=1.4.1 in /usr/local/lib/python3.12/dist-packages (from pynacl>=1.4.0->pygithub>=1.51->pybaseball) (1.17.1)\n",
            "Requirement already satisfied: six>=1.5 in /usr/local/lib/python3.12/dist-packages (from python-dateutil>=2.7->matplotlib>=2.0.0->pybaseball) (1.17.0)\n",
            "Requirement already satisfied: pycparser in /usr/local/lib/python3.12/dist-packages (from cffi>=1.4.1->pynacl>=1.4.0->pygithub>=1.51->pybaseball) (2.22)\n",
            "Downloading pybaseball-2.2.7-py3-none-any.whl (426 kB)\n",
            "\u001b[2K   \u001b[90m━━━━━━━━━━━━━━━━━━━━━━━━━━━━━━━━━━━━━━━━\u001b[0m \u001b[32m426.1/426.1 kB\u001b[0m \u001b[31m7.9 MB/s\u001b[0m eta \u001b[36m0:00:00\u001b[0m\n",
            "\u001b[?25hDownloading pygithub-2.7.0-py3-none-any.whl (416 kB)\n",
            "\u001b[2K   \u001b[90m━━━━━━━━━━━━━━━━━━━━━━━━━━━━━━━━━━━━━━━━\u001b[0m \u001b[32m416.5/416.5 kB\u001b[0m \u001b[31m27.6 MB/s\u001b[0m eta \u001b[36m0:00:00\u001b[0m\n",
            "\u001b[?25hDownloading PyNaCl-1.5.0-cp36-abi3-manylinux_2_17_x86_64.manylinux2014_x86_64.manylinux_2_24_x86_64.whl (856 kB)\n",
            "\u001b[2K   \u001b[90m━━━━━━━━━━━━━━━━━━━━━━━━━━━━━━━━━━━━━━━━\u001b[0m \u001b[32m856.7/856.7 kB\u001b[0m \u001b[31m47.8 MB/s\u001b[0m eta \u001b[36m0:00:00\u001b[0m\n",
            "\u001b[?25hInstalling collected packages: pynacl, pygithub, pybaseball\n",
            "Successfully installed pybaseball-2.2.7 pygithub-2.7.0 pynacl-1.5.0\n"
          ]
        }
      ],
      "source": [
        "!pip install pybaseball"
      ]
    },
    {
      "cell_type": "code",
      "source": [
        "from pybaseball import fielding_stats"
      ],
      "metadata": {
        "id": "snIL4GOl38ra"
      },
      "execution_count": null,
      "outputs": []
    },
    {
      "cell_type": "code",
      "source": [
        "data = fielding_stats(start_season=2022, end_season=2025, qual=10, ind=1)\n",
        "first_base = data[data['Pos'] == '1B']"
      ],
      "metadata": {
        "id": "VYET8f6y4NW-"
      },
      "execution_count": null,
      "outputs": []
    },
    {
      "cell_type": "code",
      "source": [
        "from sklearn.preprocessing import StandardScaler\n",
        "\n",
        "metrics = ['Name', 'Team', 'Season', 'DRS', 'UZR/150', 'OAA', 'rPM']\n",
        "df = first_base[metrics].fillna(0)"
      ],
      "metadata": {
        "id": "Z037YxjJ4nla"
      },
      "execution_count": null,
      "outputs": []
    },
    {
      "cell_type": "code",
      "source": [
        "from sklearn.preprocessing import StandardScaler\n",
        "\n",
        "X = df[['DRS', 'UZR/150', 'OAA']]\n",
        "scaler = StandardScaler()\n",
        "X_scaled = scaler.fit_transform(X)"
      ],
      "metadata": {
        "id": "2BoqGdU5IdD5"
      },
      "execution_count": null,
      "outputs": []
    },
    {
      "cell_type": "code",
      "source": [
        "from sklearn.decomposition import PCA\n",
        "\n",
        "pca = PCA(n_components=1)\n",
        "df['Def_Score'] = pca.fit_transform(X_scaled)"
      ],
      "metadata": {
        "id": "vaaoQByFIqPZ"
      },
      "execution_count": null,
      "outputs": []
    },
    {
      "cell_type": "code",
      "source": [
        "ranked = df.sort_values('Def_Score', ascending=False)\n",
        "print(ranked.head(10))"
      ],
      "metadata": {
        "colab": {
          "base_uri": "https://localhost:8080/"
        },
        "id": "mtYpKk_QI29h",
        "outputId": "78d9720b-b699-4b85-800e-8e6469c1c424"
      },
      "execution_count": null,
      "outputs": [
        {
          "output_type": "stream",
          "name": "stdout",
          "text": [
            "                  Name   Team  Season  DRS  UZR/150   OAA   rPM  Def_Score\n",
            "1664  Christian Walker    ARI    2022   17      5.0  14.0  17.0   7.970452\n",
            "942     Carlos Santana    MIN    2024    8      2.3  14.0   6.0   5.692811\n",
            "4240        Matt Olson    ATL    2025   15      0.0   7.0  12.0   5.634458\n",
            "2578  Christian Walker    ARI    2023    9      2.6  12.0   8.0   5.440793\n",
            "849   Christian Walker    ARI    2024    7      2.9  13.0   6.0   5.199884\n",
            "4572        Matt Olson    ATL    2024   13      0.1   4.0   9.0   4.380550\n",
            "3544    Carlos Santana    CLE    2025    9      0.0   6.0   8.0   3.888864\n",
            "3471     Spencer Steer    CIN    2025    8      0.0   6.0   7.0   3.640023\n",
            "4472    Carlos Santana  - - -    2023   11     -1.2   3.0  11.0   3.611993\n",
            "3488         Ty France  - - -    2025    6      0.0   7.0   4.0   3.394885\n"
          ]
        }
      ]
    },
    {
      "cell_type": "code",
      "source": [
        "import matplotlib.pyplot as plt\n",
        "\n",
        "top10 = ranked.head(10)\n",
        "plt.barh(top10['Name'], top10['Def_Score'])\n",
        "plt.xlabel('Composite Defensive Score')\n",
        "plt.title('Top Defensive First Basemen')\n",
        "plt.gca().invert_yaxis()\n",
        "plt.show()"
      ],
      "metadata": {
        "colab": {
          "base_uri": "https://localhost:8080/",
          "height": 472
        },
        "id": "tg9KV3G0I8cg",
        "outputId": "541fdb8a-873e-4d37-ce19-75996293796e"
      },
      "execution_count": null,
      "outputs": [
        {
          "output_type": "display_data",
          "data": {
            "text/plain": [
              "<Figure size 640x480 with 1 Axes>"
            ],
            "image/png": "[encoded data removed]"
          },
          "metadata": {}
        }
      ]
    }
  ]
}