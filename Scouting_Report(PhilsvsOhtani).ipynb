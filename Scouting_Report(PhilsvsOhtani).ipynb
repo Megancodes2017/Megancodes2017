{
  "nbformat": 4,
  "nbformat_minor": 0,
  "metadata": {
    "colab": {
      "provenance": [],
      "authorship_tag": "ABX9TyPJrKzIuwXgf/vwKorTMaBt",
      "include_colab_link": true
    },
    "kernelspec": {
      "name": "python3",
      "display_name": "Python 3"
    },
    "language_info": {
      "name": "python"
    }
  },
  "cells": [
    {
      "cell_type": "markdown",
      "metadata": {
        "id": "view-in-github",
        "colab_type": "text"
      },
      "source": [
        "<a href=\"https://colab.research.google.com/github/Megancodes2017/Megancodes2017/blob/main/Scouting_Report(PhilsvsOhtani).ipynb\" target=\"_parent\"><img src=\"https://colab.research.google.com/assets/colab-badge.svg\" alt=\"Open In Colab\"/></a>"
      ]
    },
    {
      "cell_type": "code",
      "execution_count": 2,
      "metadata": {
        "colab": {
          "base_uri": "https://localhost:8080/"
        },
        "id": "wQlYsrk5-6vt",
        "outputId": "8801ee99-3954-4f5e-d48d-5b16d5775529"
      },
      "outputs": [
        {
          "output_type": "stream",
          "name": "stdout",
          "text": [
            "Collecting pybaseball\n",
            "  Downloading pybaseball-2.2.7-py3-none-any.whl.metadata (11 kB)\n",
            "Requirement already satisfied: numpy>=1.13.0 in /usr/local/lib/python3.12/dist-packages (from pybaseball) (2.0.2)\n",
            "Requirement already satisfied: pandas>=1.0.3 in /usr/local/lib/python3.12/dist-packages (from pybaseball) (2.2.2)\n",
            "Requirement already satisfied: beautifulsoup4>=4.4.0 in /usr/local/lib/python3.12/dist-packages (from pybaseball) (4.13.5)\n",
            "Requirement already satisfied: requests>=2.18.1 in /usr/local/lib/python3.12/dist-packages (from pybaseball) (2.32.4)\n",
            "Requirement already satisfied: lxml>=4.2.1 in /usr/local/lib/python3.12/dist-packages (from pybaseball) (5.4.0)\n",
            "Requirement already satisfied: pyarrow>=1.0.1 in /usr/local/lib/python3.12/dist-packages (from pybaseball) (18.1.0)\n",
            "Collecting pygithub>=1.51 (from pybaseball)\n",
            "  Downloading pygithub-2.8.1-py3-none-any.whl.metadata (3.9 kB)\n",
            "Requirement already satisfied: scipy>=1.4.0 in /usr/local/lib/python3.12/dist-packages (from pybaseball) (1.16.2)\n",
            "Requirement already satisfied: matplotlib>=2.0.0 in /usr/local/lib/python3.12/dist-packages (from pybaseball) (3.10.0)\n",
            "Requirement already satisfied: tqdm>=4.50.0 in /usr/local/lib/python3.12/dist-packages (from pybaseball) (4.67.1)\n",
            "Requirement already satisfied: attrs>=20.3.0 in /usr/local/lib/python3.12/dist-packages (from pybaseball) (25.3.0)\n",
            "Requirement already satisfied: soupsieve>1.2 in /usr/local/lib/python3.12/dist-packages (from beautifulsoup4>=4.4.0->pybaseball) (2.8)\n",
            "Requirement already satisfied: typing-extensions>=4.0.0 in /usr/local/lib/python3.12/dist-packages (from beautifulsoup4>=4.4.0->pybaseball) (4.15.0)\n",
            "Requirement already satisfied: contourpy>=1.0.1 in /usr/local/lib/python3.12/dist-packages (from matplotlib>=2.0.0->pybaseball) (1.3.3)\n",
            "Requirement already satisfied: cycler>=0.10 in /usr/local/lib/python3.12/dist-packages (from matplotlib>=2.0.0->pybaseball) (0.12.1)\n",
            "Requirement already satisfied: fonttools>=4.22.0 in /usr/local/lib/python3.12/dist-packages (from matplotlib>=2.0.0->pybaseball) (4.60.0)\n",
            "Requirement already satisfied: kiwisolver>=1.3.1 in /usr/local/lib/python3.12/dist-packages (from matplotlib>=2.0.0->pybaseball) (1.4.9)\n",
            "Requirement already satisfied: packaging>=20.0 in /usr/local/lib/python3.12/dist-packages (from matplotlib>=2.0.0->pybaseball) (25.0)\n",
            "Requirement already satisfied: pillow>=8 in /usr/local/lib/python3.12/dist-packages (from matplotlib>=2.0.0->pybaseball) (11.3.0)\n",
            "Requirement already satisfied: pyparsing>=2.3.1 in /usr/local/lib/python3.12/dist-packages (from matplotlib>=2.0.0->pybaseball) (3.2.4)\n",
            "Requirement already satisfied: python-dateutil>=2.7 in /usr/local/lib/python3.12/dist-packages (from matplotlib>=2.0.0->pybaseball) (2.9.0.post0)\n",
            "Requirement already satisfied: pytz>=2020.1 in /usr/local/lib/python3.12/dist-packages (from pandas>=1.0.3->pybaseball) (2025.2)\n",
            "Requirement already satisfied: tzdata>=2022.7 in /usr/local/lib/python3.12/dist-packages (from pandas>=1.0.3->pybaseball) (2025.2)\n",
            "Collecting pynacl>=1.4.0 (from pygithub>=1.51->pybaseball)\n",
            "  Downloading pynacl-1.6.0-cp38-abi3-manylinux_2_34_x86_64.whl.metadata (9.4 kB)\n",
            "Requirement already satisfied: pyjwt>=2.4.0 in /usr/local/lib/python3.12/dist-packages (from pyjwt[crypto]>=2.4.0->pygithub>=1.51->pybaseball) (2.10.1)\n",
            "Requirement already satisfied: urllib3>=1.26.0 in /usr/local/lib/python3.12/dist-packages (from pygithub>=1.51->pybaseball) (2.5.0)\n",
            "Requirement already satisfied: charset_normalizer<4,>=2 in /usr/local/lib/python3.12/dist-packages (from requests>=2.18.1->pybaseball) (3.4.3)\n",
            "Requirement already satisfied: idna<4,>=2.5 in /usr/local/lib/python3.12/dist-packages (from requests>=2.18.1->pybaseball) (3.10)\n",
            "Requirement already satisfied: certifi>=2017.4.17 in /usr/local/lib/python3.12/dist-packages (from requests>=2.18.1->pybaseball) (2025.8.3)\n",
            "Requirement already satisfied: cryptography>=3.4.0 in /usr/local/lib/python3.12/dist-packages (from pyjwt[crypto]>=2.4.0->pygithub>=1.51->pybaseball) (43.0.3)\n",
            "Requirement already satisfied: cffi>=1.4.1 in /usr/local/lib/python3.12/dist-packages (from pynacl>=1.4.0->pygithub>=1.51->pybaseball) (2.0.0)\n",
            "Requirement already satisfied: six>=1.5 in /usr/local/lib/python3.12/dist-packages (from python-dateutil>=2.7->matplotlib>=2.0.0->pybaseball) (1.17.0)\n",
            "Requirement already satisfied: pycparser in /usr/local/lib/python3.12/dist-packages (from cffi>=1.4.1->pynacl>=1.4.0->pygithub>=1.51->pybaseball) (2.23)\n",
            "Downloading pybaseball-2.2.7-py3-none-any.whl (426 kB)\n",
            "\u001b[2K   \u001b[90m━━━━━━━━━━━━━━━━━━━━━━━━━━━━━━━━━━━━━━━━\u001b[0m \u001b[32m426.1/426.1 kB\u001b[0m \u001b[31m8.3 MB/s\u001b[0m eta \u001b[36m0:00:00\u001b[0m\n",
            "\u001b[?25hDownloading pygithub-2.8.1-py3-none-any.whl (432 kB)\n",
            "\u001b[2K   \u001b[90m━━━━━━━━━━━━━━━━━━━━━━━━━━━━━━━━━━━━━━━━\u001b[0m \u001b[32m432.7/432.7 kB\u001b[0m \u001b[31m19.0 MB/s\u001b[0m eta \u001b[36m0:00:00\u001b[0m\n",
            "\u001b[?25hDownloading pynacl-1.6.0-cp38-abi3-manylinux_2_34_x86_64.whl (1.4 MB)\n",
            "\u001b[2K   \u001b[90m━━━━━━━━━━━━━━━━━━━━━━━━━━━━━━━━━━━━━━━━\u001b[0m \u001b[32m1.4/1.4 MB\u001b[0m \u001b[31m36.4 MB/s\u001b[0m eta \u001b[36m0:00:00\u001b[0m\n",
            "\u001b[?25hInstalling collected packages: pynacl, pygithub, pybaseball\n",
            "Successfully installed pybaseball-2.2.7 pygithub-2.8.1 pynacl-1.6.0\n"
          ]
        }
      ],
      "source": [
        "!pip install pybaseball"
      ]
    },
    {
      "cell_type": "code",
      "source": [
        "import pandas as pd\n",
        "import matplotlib.pyplot as plt\n",
        "import seaborn as sns\n",
        "from pybaseball import statcast_batter, statcast_pitcher, playerid_lookup"
      ],
      "metadata": {
        "id": "Z0bkg4Yp-89s"
      },
      "execution_count": 3,
      "outputs": []
    },
    {
      "cell_type": "code",
      "source": [
        "pid_df = playerid_lookup('Ohtani', 'Shohei')\n",
        "print(pid_df[['name_last', 'name_first', 'key_mlbam']])"
      ],
      "metadata": {
        "colab": {
          "base_uri": "https://localhost:8080/"
        },
        "id": "1IFi5YHYEc-L",
        "outputId": "713a6ec2-8596-48b3-fa7e-c0c7dfeacaf4"
      },
      "execution_count": 4,
      "outputs": [
        {
          "output_type": "stream",
          "name": "stdout",
          "text": [
            "Gathering player lookup table. This may take a moment.\n",
            "  name_last name_first  key_mlbam\n",
            "0    ohtani     shohei     660271\n"
          ]
        }
      ]
    },
    {
      "cell_type": "code",
      "source": [
        "pid = pid_df['key_mlbam'].iloc[0]"
      ],
      "metadata": {
        "id": "DtnL4nzIEpw4"
      },
      "execution_count": 5,
      "outputs": []
    },
    {
      "cell_type": "code",
      "source": [
        "# Get Ohtani's pitch data from 2025 season\n",
        "start_date = '2025-06-16'\n",
        "end_date = '2025-09-23'\n",
        "pitches = statcast_pitcher(start_date, end_date, pid)"
      ],
      "metadata": {
        "colab": {
          "base_uri": "https://localhost:8080/"
        },
        "id": "eLLhDKp_EyL7",
        "outputId": "4b9cb9a0-a003-437f-8c40-7175557483f6"
      },
      "execution_count": 6,
      "outputs": [
        {
          "output_type": "stream",
          "name": "stdout",
          "text": [
            "Gathering Player Data\n"
          ]
        }
      ]
    },
    {
      "cell_type": "code",
      "source": [
        "# Summarize Ohtani's pitch arsenal\n",
        "ohtani_summary = (\n",
        "    pitches.groupby('pitch_type')\n",
        "    .agg(\n",
        "        usage=('pitch_type', 'count'),\n",
        "        avg_velo =('release_speed', 'mean'),\n",
        "        avg_spin=('release_spin_rate', 'mean'),\n",
        "        whiff_rate=('description', lambda x: x.str.contains('swinging_strike').sum() / x.str.contains('swing|foul|hit_into_play|missed_bunt').sum()),\n",
        "        avg_xwoba=('estimated_woba_using_speedangle', 'mean')\n",
        "    )\n",
        ")\n",
        "\n",
        "ohtani_summary['usage_pct'] = ohtani_summary['usage'] / ohtani_summary['usage'].sum()\n",
        "print(ohtani_summary)"
      ],
      "metadata": {
        "colab": {
          "base_uri": "https://localhost:8080/"
        },
        "id": "bcPdRw6-FClp",
        "outputId": "68bbe367-0538-4bbc-fbcc-a7c333578640"
      },
      "execution_count": 7,
      "outputs": [
        {
          "output_type": "stream",
          "name": "stdout",
          "text": [
            "            usage   avg_velo     avg_spin  whiff_rate  avg_xwoba  usage_pct\n",
            "pitch_type                                                                 \n",
            "CU             66  78.568182  2653.348485    0.550000   0.180308   0.087649\n",
            "FC             50  93.874000  2531.520000    0.107143   0.493375   0.066401\n",
            "FF            291  98.423368  2467.140893    0.187919   0.252569   0.386454\n",
            "FS             35  90.300000  1507.714286    0.300000   0.246167   0.046481\n",
            "SI             54  96.218519  2143.481481    0.173913   0.395500   0.071713\n",
            "SL             85  88.115294  2546.976471    0.425926   0.170019   0.112882\n",
            "ST            172  84.979070  2593.953488    0.373626   0.206450   0.228420\n"
          ]
        }
      ]
    },
    {
      "cell_type": "code",
      "source": [
        "# Get Phillies hitters MLBAM IDs and 2025 splits\n",
        "phillies_hitters = [\n",
        "    'Trea Turner', 'Kyle Schwarber', 'Bryce Harper', 'JT Realmuto', 'Nick Castellanos',\n",
        "    'Alec Bohm', 'Bryson Stott', 'Brandon Marsh', 'Max Kepler', 'Harrison Bader',\n",
        "    'Edmundo Sosa', 'Otto Kemp', 'Rafael Marchán', 'Weston Wilson'\n",
        "]\n",
        "\n",
        "ids = {}\n",
        "for h in phillies_hitters:\n",
        "    pid_df = playerid_lookup(h.split()[1], h.split()[0])\n",
        "    if not pid_df.empty:\n",
        "        ids[h] = pid_df['key_mlbam'].values[0]\n",
        "    else:\n",
        "        print(f\"Could not find MLBAM ID for {h}\")\n",
        "\n",
        "print(ids)"
      ],
      "metadata": {
        "colab": {
          "base_uri": "https://localhost:8080/"
        },
        "id": "V8XSrRX1GOEm",
        "outputId": "51dd6f23-9ab9-482b-8a1f-e0447d468851"
      },
      "execution_count": 8,
      "outputs": [
        {
          "output_type": "stream",
          "name": "stdout",
          "text": [
            "Could not find MLBAM ID for JT Realmuto\n",
            "{'Trea Turner': np.int64(607208), 'Kyle Schwarber': np.int64(656941), 'Bryce Harper': np.int64(547180), 'Nick Castellanos': np.int64(592206), 'Alec Bohm': np.int64(664761), 'Bryson Stott': np.int64(681082), 'Brandon Marsh': np.int64(669016), 'Max Kepler': np.int64(596146), 'Harrison Bader': np.int64(664056), 'Edmundo Sosa': np.int64(624641), 'Otto Kemp': np.int64(805249), 'Rafael Marchán': np.int64(665561), 'Weston Wilson': np.int64(642215)}\n"
          ]
        }
      ]
    },
    {
      "cell_type": "code",
      "source": [
        "# Pull matchup splits vs pitch types\n",
        "def hitter_splits(hitter_id, start='2025-03-20', end='2025-09-30'):\n",
        "  df = statcast_batter(start_date, end_date, hitter_id)\n",
        "  return (\n",
        "      df.groupby('pitch_type')\n",
        "      .agg(\n",
        "          swings=('description', lambda x: sum(x.str.contains('swing'))),\n",
        "          whiffs=('description', lambda x: sum(x.str.contains('swinging_strike'))),\n",
        "          total_pitches=('pitch_type', 'size'),\n",
        "          avg_xwoba=('estimated_woba_using_speedangle', 'mean')\n",
        "      )\n",
        "      .assign(whiff_rate=lambda d: d['whiffs']/d['total_pitches'].replace(0,1))\n",
        "  )\n",
        "\n",
        "hitter_reports = {h: hitter_splits(ids[h], start='2025-03-20', end='2025-09-30') for h in phillies_hitters if h in ids}"
      ],
      "metadata": {
        "colab": {
          "base_uri": "https://localhost:8080/"
        },
        "id": "hryhmfc2HJxu",
        "outputId": "229c3ee3-276a-4243-bc5f-896c729296e1"
      },
      "execution_count": 9,
      "outputs": [
        {
          "output_type": "stream",
          "name": "stdout",
          "text": [
            "Gathering Player Data\n",
            "Gathering Player Data\n",
            "Gathering Player Data\n",
            "Gathering Player Data\n",
            "Gathering Player Data\n",
            "Gathering Player Data\n",
            "Gathering Player Data\n",
            "Gathering Player Data\n",
            "Gathering Player Data\n",
            "Gathering Player Data\n",
            "Gathering Player Data\n",
            "Gathering Player Data\n",
            "Gathering Player Data\n"
          ]
        }
      ]
    },
    {
      "cell_type": "code",
      "source": [
        "# Compare Ohtani's pitch effectiveness vs Phillies' hitters\n",
        "report = {}\n",
        "for hitter, df in hitter_reports.items():\n",
        "  merged = df.join(ohtani_summary, how='inner', rsuffix='_ohtani')\n",
        "  report[hitter] =  merged[['avg_xwoba', 'whiff_rate', 'avg_xwoba_ohtani', 'whiff_rate_ohtani']]"
      ],
      "metadata": {
        "id": "hEknyrPZKSSL"
      },
      "execution_count": 10,
      "outputs": []
    },
    {
      "cell_type": "code",
      "source": [
        "# Generate scouting report\n",
        "for hitter, df in report.items():\n",
        "  print(f'\\n--- {hitter} ---')\n",
        "  for pitch in df.index:\n",
        "    h_xwoba = df.loc[pitch, 'avg_xwoba']\n",
        "    o_xwoba = df.loc[pitch, 'avg_xwoba_ohtani']\n",
        "    if h_xwoba > 0.324:\n",
        "      print(f'{hitter} hits the {pitch} well (xwOBA {h_xwoba:.3f}), risk pitch.')\n",
        "    elif h_xwoba < 0.300:\n",
        "      print(f'{hitter} struggles vs {pitch} (xwOBA {h_xwoba:.3f}), good matchup for Ohtani.')"
      ],
      "metadata": {
        "colab": {
          "base_uri": "https://localhost:8080/"
        },
        "id": "IKx1V1JZLjT-",
        "outputId": "866615d4-f30d-4b53-b807-2bfc88729fde"
      },
      "execution_count": 15,
      "outputs": [
        {
          "output_type": "stream",
          "name": "stdout",
          "text": [
            "\n",
            "--- Trea Turner ---\n",
            "Trea Turner struggles vs CU (xwOBA 0.230), good matchup for Ohtani.\n",
            "Trea Turner hits the FC well (xwOBA 0.372), risk pitch.\n",
            "Trea Turner hits the FF well (xwOBA 0.336), risk pitch.\n",
            "Trea Turner struggles vs FS (xwOBA 0.272), good matchup for Ohtani.\n",
            "Trea Turner hits the SI well (xwOBA 0.349), risk pitch.\n",
            "Trea Turner hits the SL well (xwOBA 0.378), risk pitch.\n",
            "Trea Turner struggles vs ST (xwOBA 0.247), good matchup for Ohtani.\n",
            "\n",
            "--- Kyle Schwarber ---\n",
            "Kyle Schwarber hits the FC well (xwOBA 0.569), risk pitch.\n",
            "Kyle Schwarber hits the FF well (xwOBA 0.451), risk pitch.\n",
            "Kyle Schwarber hits the FS well (xwOBA 0.346), risk pitch.\n",
            "Kyle Schwarber hits the SI well (xwOBA 0.518), risk pitch.\n",
            "Kyle Schwarber hits the ST well (xwOBA 0.354), risk pitch.\n",
            "\n",
            "--- Bryce Harper ---\n",
            "Bryce Harper hits the CU well (xwOBA 0.331), risk pitch.\n",
            "Bryce Harper hits the FC well (xwOBA 0.575), risk pitch.\n",
            "Bryce Harper hits the FF well (xwOBA 0.435), risk pitch.\n",
            "Bryce Harper struggles vs FS (xwOBA 0.269), good matchup for Ohtani.\n",
            "Bryce Harper hits the SI well (xwOBA 0.372), risk pitch.\n",
            "Bryce Harper struggles vs SL (xwOBA 0.284), good matchup for Ohtani.\n",
            "Bryce Harper hits the ST well (xwOBA 0.510), risk pitch.\n",
            "\n",
            "--- Nick Castellanos ---\n",
            "Nick Castellanos struggles vs FC (xwOBA 0.189), good matchup for Ohtani.\n",
            "Nick Castellanos struggles vs FF (xwOBA 0.259), good matchup for Ohtani.\n",
            "Nick Castellanos struggles vs FS (xwOBA 0.160), good matchup for Ohtani.\n",
            "Nick Castellanos hits the SI well (xwOBA 0.342), risk pitch.\n",
            "\n",
            "--- Alec Bohm ---\n",
            "Alec Bohm hits the FC well (xwOBA 0.467), risk pitch.\n",
            "Alec Bohm hits the FF well (xwOBA 0.326), risk pitch.\n",
            "Alec Bohm struggles vs FS (xwOBA 0.173), good matchup for Ohtani.\n",
            "Alec Bohm struggles vs SI (xwOBA 0.289), good matchup for Ohtani.\n",
            "Alec Bohm struggles vs SL (xwOBA 0.272), good matchup for Ohtani.\n",
            "Alec Bohm hits the ST well (xwOBA 0.344), risk pitch.\n",
            "\n",
            "--- Bryson Stott ---\n",
            "Bryson Stott struggles vs CU (xwOBA 0.213), good matchup for Ohtani.\n",
            "Bryson Stott hits the FC well (xwOBA 0.430), risk pitch.\n",
            "Bryson Stott hits the FF well (xwOBA 0.367), risk pitch.\n",
            "Bryson Stott struggles vs FS (xwOBA 0.157), good matchup for Ohtani.\n",
            "Bryson Stott hits the SL well (xwOBA 0.440), risk pitch.\n",
            "Bryson Stott struggles vs ST (xwOBA 0.240), good matchup for Ohtani.\n",
            "\n",
            "--- Brandon Marsh ---\n",
            "Brandon Marsh hits the CU well (xwOBA 0.478), risk pitch.\n",
            "Brandon Marsh hits the FC well (xwOBA 0.368), risk pitch.\n",
            "Brandon Marsh struggles vs FS (xwOBA 0.255), good matchup for Ohtani.\n",
            "Brandon Marsh hits the SI well (xwOBA 0.429), risk pitch.\n",
            "Brandon Marsh struggles vs SL (xwOBA 0.267), good matchup for Ohtani.\n",
            "Brandon Marsh hits the ST well (xwOBA 0.392), risk pitch.\n",
            "\n",
            "--- Max Kepler ---\n",
            "Max Kepler struggles vs CU (xwOBA 0.225), good matchup for Ohtani.\n",
            "Max Kepler hits the FC well (xwOBA 0.365), risk pitch.\n",
            "Max Kepler hits the FF well (xwOBA 0.416), risk pitch.\n",
            "Max Kepler struggles vs FS (xwOBA 0.240), good matchup for Ohtani.\n",
            "Max Kepler hits the SI well (xwOBA 0.365), risk pitch.\n",
            "Max Kepler hits the SL well (xwOBA 0.352), risk pitch.\n",
            "Max Kepler hits the ST well (xwOBA 0.351), risk pitch.\n",
            "\n",
            "--- Harrison Bader ---\n",
            "Harrison Bader struggles vs CU (xwOBA 0.208), good matchup for Ohtani.\n",
            "Harrison Bader hits the FC well (xwOBA 0.343), risk pitch.\n",
            "Harrison Bader hits the FS well (xwOBA 0.418), risk pitch.\n",
            "Harrison Bader hits the SI well (xwOBA 0.459), risk pitch.\n",
            "Harrison Bader hits the SL well (xwOBA 0.341), risk pitch.\n",
            "\n",
            "--- Edmundo Sosa ---\n",
            "Edmundo Sosa struggles vs CU (xwOBA 0.089), good matchup for Ohtani.\n",
            "Edmundo Sosa struggles vs FC (xwOBA 0.034), good matchup for Ohtani.\n",
            "Edmundo Sosa struggles vs FF (xwOBA 0.266), good matchup for Ohtani.\n",
            "Edmundo Sosa struggles vs FS (xwOBA 0.030), good matchup for Ohtani.\n",
            "Edmundo Sosa hits the SI well (xwOBA 0.402), risk pitch.\n",
            "Edmundo Sosa hits the SL well (xwOBA 0.353), risk pitch.\n",
            "Edmundo Sosa struggles vs ST (xwOBA 0.162), good matchup for Ohtani.\n",
            "\n",
            "--- Otto Kemp ---\n",
            "Otto Kemp struggles vs CU (xwOBA 0.161), good matchup for Ohtani.\n",
            "Otto Kemp struggles vs FC (xwOBA 0.299), good matchup for Ohtani.\n",
            "Otto Kemp struggles vs FS (xwOBA 0.179), good matchup for Ohtani.\n",
            "Otto Kemp hits the SI well (xwOBA 0.392), risk pitch.\n",
            "Otto Kemp hits the SL well (xwOBA 0.425), risk pitch.\n",
            "Otto Kemp struggles vs ST (xwOBA 0.291), good matchup for Ohtani.\n",
            "\n",
            "--- Rafael Marchán ---\n",
            "Rafael Marchán struggles vs CU (xwOBA 0.051), good matchup for Ohtani.\n",
            "Rafael Marchán hits the FC well (xwOBA 0.703), risk pitch.\n",
            "Rafael Marchán struggles vs FF (xwOBA 0.273), good matchup for Ohtani.\n",
            "Rafael Marchán struggles vs FS (xwOBA 0.066), good matchup for Ohtani.\n",
            "Rafael Marchán struggles vs SI (xwOBA 0.281), good matchup for Ohtani.\n",
            "Rafael Marchán struggles vs SL (xwOBA 0.103), good matchup for Ohtani.\n",
            "Rafael Marchán hits the ST well (xwOBA 0.350), risk pitch.\n",
            "\n",
            "--- Weston Wilson ---\n",
            "Weston Wilson hits the CU well (xwOBA 0.519), risk pitch.\n",
            "Weston Wilson hits the FC well (xwOBA 0.457), risk pitch.\n",
            "Weston Wilson hits the FF well (xwOBA 0.398), risk pitch.\n",
            "Weston Wilson struggles vs FS (xwOBA 0.000), good matchup for Ohtani.\n",
            "Weston Wilson struggles vs SL (xwOBA 0.285), good matchup for Ohtani.\n",
            "Weston Wilson hits the ST well (xwOBA 0.378), risk pitch.\n"
          ]
        }
      ]
    },
    {
      "cell_type": "code",
      "source": [
        "# Ohtani's arsenal chart\n",
        "# Reset index for plotting\n",
        "arsenal = ohtani_summary.reset_index()\n",
        "\n",
        "fig, ax1 = plt.subplots(figsize=(10,6))\n",
        "sns.barplot(data=arsenal, x='pitch_type', y='usage_pct', ax=ax1, color='skyblue')\n",
        "ax1.set_ylabel('Usage %')\n",
        "ax1.set_xlabel('Pitch Type')\n",
        "ax1.set_title('Shohei Ohtani - 2025 Pitch Arsenal')\n",
        "\n",
        "# Overlay average whiff rate\n",
        "ax2 = ax1.twinx()\n",
        "sns.lineplot(data=arsenal, x='pitch_type', y='whiff_rate', ax=ax2, color='red', marker='o')\n",
        "ax2.set_ylabel('Whiff Rate')\n",
        "\n",
        "plt.show()"
      ],
      "metadata": {
        "colab": {
          "base_uri": "https://localhost:8080/",
          "height": 564
        },
        "id": "WvP4WOYGSmcB",
        "outputId": "e31bcd40-681e-44fb-c983-add2ee06c8b3"
      },
      "execution_count": 16,
      "outputs": [
        {
          "output_type": "display_data",
          "data": {
            "text/plain": [
              "<Figure size 1000x600 with 2 Axes>"
            ],
            "image/png": "[encoded data removed]"
          },
          "metadata": {}
        }
      ]
    }
  ]
}