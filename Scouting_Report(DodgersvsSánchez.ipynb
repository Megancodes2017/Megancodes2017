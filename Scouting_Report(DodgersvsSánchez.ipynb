{
  "nbformat": 4,
  "nbformat_minor": 0,
  "metadata": {
    "colab": {
      "provenance": [],
      "authorship_tag": "ABX9TyOda+5ss7mNdujV8iGstd/v",
      "include_colab_link": true
    },
    "kernelspec": {
      "name": "python3",
      "display_name": "Python 3"
    },
    "language_info": {
      "name": "python"
    }
  },
  "cells": [
    {
      "cell_type": "markdown",
      "metadata": {
        "id": "view-in-github",
        "colab_type": "text"
      },
      "source": [
        "<a href=\"https://colab.research.google.com/github/Megancodes2017/Megancodes2017/blob/main/Scouting_Report(DodgersvsS%C3%A1nchez.ipynb\" target=\"_parent\"><img src=\"https://colab.research.google.com/assets/colab-badge.svg\" alt=\"Open In Colab\"/></a>"
      ]
    },
    {
      "cell_type": "code",
      "execution_count": 1,
      "metadata": {
        "colab": {
          "base_uri": "https://localhost:8080/"
        },
        "id": "zzSHdOCTEG_T",
        "outputId": "7ef3e3cd-0005-438a-f53c-fb30c2a3962c"
      },
      "outputs": [
        {
          "output_type": "stream",
          "name": "stdout",
          "text": [
            "Collecting pybaseball\n",
            "  Downloading pybaseball-2.2.7-py3-none-any.whl.metadata (11 kB)\n",
            "Requirement already satisfied: numpy>=1.13.0 in /usr/local/lib/python3.12/dist-packages (from pybaseball) (2.0.2)\n",
            "Requirement already satisfied: pandas>=1.0.3 in /usr/local/lib/python3.12/dist-packages (from pybaseball) (2.2.2)\n",
            "Requirement already satisfied: beautifulsoup4>=4.4.0 in /usr/local/lib/python3.12/dist-packages (from pybaseball) (4.13.5)\n",
            "Requirement already satisfied: requests>=2.18.1 in /usr/local/lib/python3.12/dist-packages (from pybaseball) (2.32.4)\n",
            "Requirement already satisfied: lxml>=4.2.1 in /usr/local/lib/python3.12/dist-packages (from pybaseball) (5.4.0)\n",
            "Requirement already satisfied: pyarrow>=1.0.1 in /usr/local/lib/python3.12/dist-packages (from pybaseball) (18.1.0)\n",
            "Collecting pygithub>=1.51 (from pybaseball)\n",
            "  Downloading pygithub-2.8.1-py3-none-any.whl.metadata (3.9 kB)\n",
            "Requirement already satisfied: scipy>=1.4.0 in /usr/local/lib/python3.12/dist-packages (from pybaseball) (1.16.2)\n",
            "Requirement already satisfied: matplotlib>=2.0.0 in /usr/local/lib/python3.12/dist-packages (from pybaseball) (3.10.0)\n",
            "Requirement already satisfied: tqdm>=4.50.0 in /usr/local/lib/python3.12/dist-packages (from pybaseball) (4.67.1)\n",
            "Requirement already satisfied: attrs>=20.3.0 in /usr/local/lib/python3.12/dist-packages (from pybaseball) (25.3.0)\n",
            "Requirement already satisfied: soupsieve>1.2 in /usr/local/lib/python3.12/dist-packages (from beautifulsoup4>=4.4.0->pybaseball) (2.8)\n",
            "Requirement already satisfied: typing-extensions>=4.0.0 in /usr/local/lib/python3.12/dist-packages (from beautifulsoup4>=4.4.0->pybaseball) (4.15.0)\n",
            "Requirement already satisfied: contourpy>=1.0.1 in /usr/local/lib/python3.12/dist-packages (from matplotlib>=2.0.0->pybaseball) (1.3.3)\n",
            "Requirement already satisfied: cycler>=0.10 in /usr/local/lib/python3.12/dist-packages (from matplotlib>=2.0.0->pybaseball) (0.12.1)\n",
            "Requirement already satisfied: fonttools>=4.22.0 in /usr/local/lib/python3.12/dist-packages (from matplotlib>=2.0.0->pybaseball) (4.60.1)\n",
            "Requirement already satisfied: kiwisolver>=1.3.1 in /usr/local/lib/python3.12/dist-packages (from matplotlib>=2.0.0->pybaseball) (1.4.9)\n",
            "Requirement already satisfied: packaging>=20.0 in /usr/local/lib/python3.12/dist-packages (from matplotlib>=2.0.0->pybaseball) (25.0)\n",
            "Requirement already satisfied: pillow>=8 in /usr/local/lib/python3.12/dist-packages (from matplotlib>=2.0.0->pybaseball) (11.3.0)\n",
            "Requirement already satisfied: pyparsing>=2.3.1 in /usr/local/lib/python3.12/dist-packages (from matplotlib>=2.0.0->pybaseball) (3.2.5)\n",
            "Requirement already satisfied: python-dateutil>=2.7 in /usr/local/lib/python3.12/dist-packages (from matplotlib>=2.0.0->pybaseball) (2.9.0.post0)\n",
            "Requirement already satisfied: pytz>=2020.1 in /usr/local/lib/python3.12/dist-packages (from pandas>=1.0.3->pybaseball) (2025.2)\n",
            "Requirement already satisfied: tzdata>=2022.7 in /usr/local/lib/python3.12/dist-packages (from pandas>=1.0.3->pybaseball) (2025.2)\n",
            "Collecting pynacl>=1.4.0 (from pygithub>=1.51->pybaseball)\n",
            "  Downloading pynacl-1.6.0-cp38-abi3-manylinux_2_34_x86_64.whl.metadata (9.4 kB)\n",
            "Requirement already satisfied: pyjwt>=2.4.0 in /usr/local/lib/python3.12/dist-packages (from pyjwt[crypto]>=2.4.0->pygithub>=1.51->pybaseball) (2.10.1)\n",
            "Requirement already satisfied: urllib3>=1.26.0 in /usr/local/lib/python3.12/dist-packages (from pygithub>=1.51->pybaseball) (2.5.0)\n",
            "Requirement already satisfied: charset_normalizer<4,>=2 in /usr/local/lib/python3.12/dist-packages (from requests>=2.18.1->pybaseball) (3.4.3)\n",
            "Requirement already satisfied: idna<4,>=2.5 in /usr/local/lib/python3.12/dist-packages (from requests>=2.18.1->pybaseball) (3.10)\n",
            "Requirement already satisfied: certifi>=2017.4.17 in /usr/local/lib/python3.12/dist-packages (from requests>=2.18.1->pybaseball) (2025.8.3)\n",
            "Requirement already satisfied: cryptography>=3.4.0 in /usr/local/lib/python3.12/dist-packages (from pyjwt[crypto]>=2.4.0->pygithub>=1.51->pybaseball) (43.0.3)\n",
            "Requirement already satisfied: cffi>=1.4.1 in /usr/local/lib/python3.12/dist-packages (from pynacl>=1.4.0->pygithub>=1.51->pybaseball) (2.0.0)\n",
            "Requirement already satisfied: six>=1.5 in /usr/local/lib/python3.12/dist-packages (from python-dateutil>=2.7->matplotlib>=2.0.0->pybaseball) (1.17.0)\n",
            "Requirement already satisfied: pycparser in /usr/local/lib/python3.12/dist-packages (from cffi>=1.4.1->pynacl>=1.4.0->pygithub>=1.51->pybaseball) (2.23)\n",
            "Downloading pybaseball-2.2.7-py3-none-any.whl (426 kB)\n",
            "\u001b[2K   \u001b[90m━━━━━━━━━━━━━━━━━━━━━━━━━━━━━━━━━━━━━━━━\u001b[0m \u001b[32m426.1/426.1 kB\u001b[0m \u001b[31m5.9 MB/s\u001b[0m eta \u001b[36m0:00:00\u001b[0m\n",
            "\u001b[?25hDownloading pygithub-2.8.1-py3-none-any.whl (432 kB)\n",
            "\u001b[2K   \u001b[90m━━━━━━━━━━━━━━━━━━━━━━━━━━━━━━━━━━━━━━━━\u001b[0m \u001b[32m432.7/432.7 kB\u001b[0m \u001b[31m23.6 MB/s\u001b[0m eta \u001b[36m0:00:00\u001b[0m\n",
            "\u001b[?25hDownloading pynacl-1.6.0-cp38-abi3-manylinux_2_34_x86_64.whl (1.4 MB)\n",
            "\u001b[2K   \u001b[90m━━━━━━━━━━━━━━━━━━━━━━━━━━━━━━━━━━━━━━━━\u001b[0m \u001b[32m1.4/1.4 MB\u001b[0m \u001b[31m38.7 MB/s\u001b[0m eta \u001b[36m0:00:00\u001b[0m\n",
            "\u001b[?25hInstalling collected packages: pynacl, pygithub, pybaseball\n",
            "Successfully installed pybaseball-2.2.7 pygithub-2.8.1 pynacl-1.6.0\n"
          ]
        }
      ],
      "source": [
        "!pip install pybaseball"
      ]
    },
    {
      "cell_type": "code",
      "source": [
        "import pandas as pd\n",
        "import matplotlib.pyplot as plt\n",
        "import seaborn as sns\n",
        "from pybaseball import statcast_batter, statcast_pitcher, playerid_lookup"
      ],
      "metadata": {
        "id": "5AJPdlyaEJC5"
      },
      "execution_count": 2,
      "outputs": []
    },
    {
      "cell_type": "code",
      "source": [
        "pid_df = playerid_lookup('Sánchez', 'Cristopher')\n",
        "print(pid_df[['name_last', 'name_first', 'key_mlbam']])"
      ],
      "metadata": {
        "colab": {
          "base_uri": "https://localhost:8080/"
        },
        "id": "L1H5tlAUEaOu",
        "outputId": "e98bc23a-c5d2-4712-82e3-91740bd57b5c"
      },
      "execution_count": 3,
      "outputs": [
        {
          "output_type": "stream",
          "name": "stdout",
          "text": [
            "Gathering player lookup table. This may take a moment.\n",
            "  name_last  name_first  key_mlbam\n",
            "0   sánchez  cristopher     650911\n"
          ]
        }
      ]
    },
    {
      "cell_type": "code",
      "source": [
        "pid = pid_df['key_mlbam'].iloc[0]"
      ],
      "metadata": {
        "id": "ljaRTko1Et_e"
      },
      "execution_count": 4,
      "outputs": []
    },
    {
      "cell_type": "code",
      "source": [
        "# Get Sánchez's pitch data from 2025 season\n",
        "start_date = '2025-03-20'\n",
        "end_date = '2025-09-30'\n",
        "pitches = statcast_pitcher(start_date, end_date, pid)"
      ],
      "metadata": {
        "colab": {
          "base_uri": "https://localhost:8080/"
        },
        "id": "AZZubPsQE3C4",
        "outputId": "67e55396-4c99-4374-b3c9-e9e466f4e9de"
      },
      "execution_count": 5,
      "outputs": [
        {
          "output_type": "stream",
          "name": "stdout",
          "text": [
            "Gathering Player Data\n"
          ]
        }
      ]
    },
    {
      "cell_type": "code",
      "source": [
        "# Summarize Sánchez's pitch arsenal\n",
        "cris_summary = (\n",
        "    pitches.groupby('pitch_type')\n",
        "    .agg(\n",
        "        usage=('pitch_type', 'size'),\n",
        "        avg_velo=('release_speed', 'mean'),\n",
        "        avg_spin=('release_spin_rate', 'mean'),\n",
        "        whiff_rate=('description', lambda x: x.str.contains('swinging_strike').sum() / x.str.contains('swing|foul|hit_into_play|missed_bunt').sum()),\n",
        "        avg_xwoba=('estimated_woba_using_speedangle', 'mean')\n",
        "    )\n",
        ")\n",
        "\n",
        "cris_summary['usage_pct'] = cris_summary['usage'] / cris_summary['usage'].sum()\n",
        "print(cris_summary)"
      ],
      "metadata": {
        "colab": {
          "base_uri": "https://localhost:8080/"
        },
        "id": "NyI4tUwZFIBd",
        "outputId": "c5bb9ee4-f1cc-4b90-c2a4-766781bde089"
      },
      "execution_count": 20,
      "outputs": [
        {
          "output_type": "stream",
          "name": "stdout",
          "text": [
            "            usage   avg_velo     avg_spin  whiff_rate  avg_xwoba  usage_pct\n",
            "pitch_type                                                                 \n",
            "CH           1083  86.276824  2043.280961    0.424497   0.207648   0.373964\n",
            "SI           1332  95.384899  2137.231231    0.121870   0.326598   0.459945\n",
            "SL            481  85.675052  2088.336798    0.319328   0.318012   0.166091\n"
          ]
        }
      ]
    },
    {
      "cell_type": "code",
      "source": [
        "# Get Dodgers hitters MLBAM IDs and 2025 splits\n",
        "dodgers_hitters = [\n",
        "    'Shohei Ohtani', 'Max Muncy', 'Will Smith', 'Freddie Freeman', 'Enrique Hernández',\n",
        "    'Teoscar Hernández', 'Mookie Betts', 'Andy Pages', 'Tommy Edman', 'Alex Call',\n",
        "    'Miguel Rojas', 'Hyeseong Kim', 'Ben Rortvedt'\n",
        "]\n",
        "\n",
        "ids = {}\n",
        "for h in dodgers_hitters:\n",
        "  pid_df = playerid_lookup(h.split()[1], h.split()[0])\n",
        "  if not pid_df.empty:\n",
        "    ids[h] = pid_df['key_mlbam'].values[0]\n",
        "  else:\n",
        "    print(f'Could not find MLBAM ID for {h}')\n",
        "\n",
        "print(ids)"
      ],
      "metadata": {
        "colab": {
          "base_uri": "https://localhost:8080/"
        },
        "id": "Kb78u7IGF_H4",
        "outputId": "aab9e3fb-8494-4368-a771-dbbdf446539b"
      },
      "execution_count": 21,
      "outputs": [
        {
          "output_type": "stream",
          "name": "stdout",
          "text": [
            "{'Shohei Ohtani': np.int64(660271), 'Max Muncy': np.int64(571970), 'Will Smith': np.int64(519293), 'Freddie Freeman': np.int64(518692), 'Enrique Hernández': np.int64(571771), 'Teoscar Hernández': np.int64(606192), 'Mookie Betts': np.int64(605141), 'Andy Pages': np.int64(681624), 'Tommy Edman': np.int64(669242), 'Alex Call': np.int64(669743), 'Miguel Rojas': np.int64(500743), 'Hyeseong Kim': np.int64(808975), 'Ben Rortvedt': np.int64(666163)}\n"
          ]
        }
      ]
    },
    {
      "cell_type": "code",
      "source": [
        "# Pull matchup splits vs pitch types\n",
        "def hitter_splits(hitter_id, start='2025-03-18', end='2025-09-29'):\n",
        "  df = statcast_batter(start,end, hitter_id)\n",
        "  return (\n",
        "      df.groupby('pitch_type')\n",
        "      .agg(\n",
        "          swings=('description', lambda x: sum(x.str.contains('swing'))),\n",
        "          whiffs=('description', lambda x: sum(x.str.contains('swining_strike'))),\n",
        "          total_pitches=('pitch_type', 'size'),\n",
        "          avg_xwoba=('estimated_woba_using_speedangle', 'mean')\n",
        "      )\n",
        "      .assign(whiff_rate=lambda d: d['whiffs']/d['total_pitches'].replace(0,1))\n",
        "  )\n",
        "\n",
        "hitter_reports = {h: hitter_splits(ids[h], start='2025-03-18', end='2025-09-29') for h in dodgers_hitters if h in ids}"
      ],
      "metadata": {
        "colab": {
          "base_uri": "https://localhost:8080/"
        },
        "id": "Y8t_LZW3HZre",
        "outputId": "36cc8c77-05a8-410d-c291-073c583894bb"
      },
      "execution_count": 22,
      "outputs": [
        {
          "output_type": "stream",
          "name": "stdout",
          "text": [
            "Gathering Player Data\n",
            "Gathering Player Data\n",
            "Gathering Player Data\n",
            "Gathering Player Data\n",
            "Gathering Player Data\n",
            "Gathering Player Data\n",
            "Gathering Player Data\n",
            "Gathering Player Data\n",
            "Gathering Player Data\n",
            "Gathering Player Data\n",
            "Gathering Player Data\n",
            "Gathering Player Data\n",
            "Gathering Player Data\n"
          ]
        }
      ]
    },
    {
      "cell_type": "code",
      "source": [
        "# Compare Sánchez's pitch effectiveness vs Dodger's hitters\n",
        "report = {}\n",
        "for hitter, df in hitter_reports.items():\n",
        "  merged = df.join(cris_summary, how='inner', rsuffix='_cris')\n",
        "  report[hitter] = merged[['avg_xwoba', 'whiff_rate', 'avg_xwoba_cris', 'whiff_rate_cris']]"
      ],
      "metadata": {
        "id": "UDc16zb7JMFa"
      },
      "execution_count": 23,
      "outputs": []
    },
    {
      "cell_type": "code",
      "source": [
        "# Generate scouting report\n",
        "for hitter, df in report.items():\n",
        "  print(f'\\n---{hitter} ---')\n",
        "  for pitch in df.index:\n",
        "    h_xwoba = df.loc[pitch, 'avg_xwoba']\n",
        "    c_xwoba = df.loc[pitch, 'avg_xwoba_cris']\n",
        "    if h_xwoba > 0.324:\n",
        "      print(f'{hitter} hits the {pitch} well (xwOBA {h_xwoba:.3f}), risk pitch.')\n",
        "    elif h_xwoba < 0.300:\n",
        "      print(f'{hitter} struggles vs {pitch} (xwoba {h_xwoba:.3f}), good matchup for Sánchez.')"
      ],
      "metadata": {
        "colab": {
          "base_uri": "https://localhost:8080/"
        },
        "id": "50SDAUXZKeGg",
        "outputId": "bb3f040d-8b13-4fe8-be57-13c356b6da64"
      },
      "execution_count": 24,
      "outputs": [
        {
          "output_type": "stream",
          "name": "stdout",
          "text": [
            "\n",
            "---Shohei Ohtani ---\n",
            "Shohei Ohtani hits the CH well (xwOBA 0.378), risk pitch.\n",
            "Shohei Ohtani hits the SI well (xwOBA 0.428), risk pitch.\n",
            "Shohei Ohtani hits the SL well (xwOBA 0.447), risk pitch.\n",
            "\n",
            "---Max Muncy ---\n",
            "Max Muncy hits the CH well (xwOBA 0.425), risk pitch.\n",
            "Max Muncy hits the SI well (xwOBA 0.525), risk pitch.\n",
            "Max Muncy struggles vs SL (xwoba 0.291), good matchup for Sánchez.\n",
            "\n",
            "---Will Smith ---\n",
            "\n",
            "---Freddie Freeman ---\n",
            "Freddie Freeman hits the SI well (xwOBA 0.370), risk pitch.\n",
            "Freddie Freeman hits the SL well (xwOBA 0.338), risk pitch.\n",
            "\n",
            "---Enrique Hernández ---\n",
            "Enrique Hernández hits the CH well (xwOBA 0.336), risk pitch.\n",
            "Enrique Hernández struggles vs SI (xwoba 0.260), good matchup for Sánchez.\n",
            "Enrique Hernández struggles vs SL (xwoba 0.211), good matchup for Sánchez.\n",
            "\n",
            "---Teoscar Hernández ---\n",
            "Teoscar Hernández struggles vs CH (xwoba 0.280), good matchup for Sánchez.\n",
            "Teoscar Hernández hits the SI well (xwOBA 0.374), risk pitch.\n",
            "Teoscar Hernández struggles vs SL (xwoba 0.288), good matchup for Sánchez.\n",
            "\n",
            "---Mookie Betts ---\n",
            "Mookie Betts struggles vs CH (xwoba 0.225), good matchup for Sánchez.\n",
            "Mookie Betts hits the SI well (xwOBA 0.393), risk pitch.\n",
            "\n",
            "---Andy Pages ---\n",
            "\n",
            "---Tommy Edman ---\n",
            "Tommy Edman struggles vs CH (xwoba 0.254), good matchup for Sánchez.\n",
            "Tommy Edman hits the SI well (xwOBA 0.390), risk pitch.\n",
            "Tommy Edman hits the SL well (xwOBA 0.328), risk pitch.\n",
            "\n",
            "---Alex Call ---\n",
            "Alex Call struggles vs CH (xwoba 0.276), good matchup for Sánchez.\n",
            "Alex Call hits the SI well (xwOBA 0.365), risk pitch.\n",
            "Alex Call hits the SL well (xwOBA 0.352), risk pitch.\n",
            "\n",
            "---Miguel Rojas ---\n",
            "\n",
            "---Hyeseong Kim ---\n",
            "Hyeseong Kim struggles vs CH (xwoba 0.093), good matchup for Sánchez.\n",
            "Hyeseong Kim struggles vs SI (xwoba 0.251), good matchup for Sánchez.\n",
            "Hyeseong Kim struggles vs SL (xwoba 0.275), good matchup for Sánchez.\n",
            "\n",
            "---Ben Rortvedt ---\n",
            "Ben Rortvedt struggles vs CH (xwoba 0.156), good matchup for Sánchez.\n",
            "Ben Rortvedt hits the SI well (xwOBA 0.343), risk pitch.\n",
            "Ben Rortvedt struggles vs SL (xwoba 0.180), good matchup for Sánchez.\n"
          ]
        }
      ]
    },
    {
      "cell_type": "code",
      "source": [
        "# Sánchez arsenal chart\n",
        "# reset index for plotting\n",
        "arsenal = cris_summary.reset_index()\n",
        "\n",
        "fig, ax1 = plt.subplots(figsize=(10,6))\n",
        "sns.barplot(data=arsenal, x='pitch_type', y='usage_pct', ax=ax1, color='skyblue')\n",
        "ax1.set_ylabel('Usage %')\n",
        "ax1.set_xlabel('Pitch Type')\n",
        "ax1.set_title('Cristopher Sánchez - 2025 Pitch Arsenal')\n",
        "\n",
        "# Overlay average whiff rate\n",
        "ax2=ax1.twinx()\n",
        "sns.lineplot(data=arsenal, x='pitch_type', y='whiff_rate', ax=ax2, color='red', marker='o')\n",
        "ax2.set_ylabel('Whiff Rate')\n",
        "\n",
        "plt.show()"
      ],
      "metadata": {
        "colab": {
          "base_uri": "https://localhost:8080/",
          "height": 565
        },
        "id": "Dk4AecPgLlOL",
        "outputId": "4691c5a1-e7cd-495f-d582-3c22b083d30d"
      },
      "execution_count": 25,
      "outputs": [
        {
          "output_type": "display_data",
          "data": {
            "text/plain": [
              "<Figure size 1000x600 with 2 Axes>"
            ],
            "image/png": "[encoded data removed]"
          },
          "metadata": {}
        }
      ]
    }
  ]
}